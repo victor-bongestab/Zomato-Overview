{
 "cells": [
  {
   "cell_type": "markdown",
   "id": "678c7952",
   "metadata": {
    "tags": []
   },
   "source": [
    "# Data Entry"
   ]
  },
  {
   "cell_type": "code",
   "execution_count": 2,
   "id": "c1d36329",
   "metadata": {},
   "outputs": [],
   "source": [
    "# Libraries\n",
    "import pandas as pd\n",
    "import inflection\n",
    "\n",
    "import matplotlib.pyplot as plt\n",
    "import seaborn as sns\n",
    "import plotly.express as px\n",
    "import plotly.graph_objects as go\n",
    "\n",
    "from streamlit_folium import folium_static\n",
    "import folium\n",
    "from folium.plugins import MarkerCluster"
   ]
  },
  {
   "cell_type": "code",
   "execution_count": 3,
   "id": "ec4f6706-c778-4802-a126-77aafc8120e5",
   "metadata": {},
   "outputs": [],
   "source": [
    "# Dataset\n",
    "df_path = \"C:/Users/victo/comunidade_ds/repos/modulo_03_-_analise_de_dados_em_python/projeto_final/\"\n",
    "df_raw = pd.read_csv(df_path + \"zomato.csv\")\n",
    "\n",
    "df = df_raw.copy()"
   ]
  },
  {
   "cell_type": "markdown",
   "id": "c4bc0cf0",
   "metadata": {
    "jp-MarkdownHeadingCollapsed": true,
    "tags": []
   },
   "source": [
    "# Cleaning DataFrame"
   ]
  },
  {
   "cell_type": "code",
   "execution_count": 4,
   "id": "111e9b7f",
   "metadata": {},
   "outputs": [
    {
     "name": "stdout",
     "output_type": "stream",
     "text": [
      "Cuisines\n"
     ]
    }
   ],
   "source": [
    "# Variable types are already appropriate.\n",
    "# Check which columns have NaN values.\n",
    "for col in df:\n",
    "    if df[col].isnull().any() == True: \n",
    "        print(col)"
   ]
  },
  {
   "cell_type": "code",
   "execution_count": 5,
   "id": "0a1e5604-b6fc-4776-bb52-58745c223aa7",
   "metadata": {},
   "outputs": [],
   "source": [
    "def clean_code(df):\n",
    "    # Dropping duplicates.\n",
    "    df.drop_duplicates(inplace=True)\n",
    "\n",
    "\n",
    "    # Deleting rows with NaN values\n",
    "    for col in df:\n",
    "        df = df.loc[ (df[col].isnull() == False) , :]\n",
    "\n",
    "\n",
    "    # Making new columns to better describe the informations we have.\n",
    "    #\n",
    "\n",
    "    # Rename the columns to something_like_this.\n",
    "    def rename_columns(dataframe):\n",
    "        df = dataframe.copy()\n",
    "\n",
    "        title = lambda x: inflection.titleize(x)\n",
    "        snakecase = lambda x: inflection.underscore(x)\n",
    "        spaces = lambda x: x.replace(\" \", \"\")\n",
    "\n",
    "        cols_old = list(df.columns)\n",
    "        cols_old = list(map(title, cols_old))\n",
    "        cols_old = list(map(spaces, cols_old))\n",
    "        cols_new = list(map(snakecase, cols_old))\n",
    "\n",
    "        df.columns = cols_new\n",
    "        return df\n",
    "\n",
    "    df = rename_columns(df).copy()\n",
    "\n",
    "\n",
    "\n",
    "    # Defining countries codes by their names.\n",
    "    countries = {\n",
    "                1: \"India\",\n",
    "                14: \"Australia\",\n",
    "                30: \"Brazil\",\n",
    "                37: \"Canada\",\n",
    "                94: \"Indonesia\",\n",
    "                148: \"New Zeland\",\n",
    "                162: \"Philippines\",\n",
    "                166: \"Qatar\",\n",
    "                184: \"Singapure\",\n",
    "                189: \"South Africa\",\n",
    "                191: \"Sri Lanka\",\n",
    "                208: \"Turkey\",\n",
    "                214: \"United Arab Emirates\",\n",
    "                215: \"England\",\n",
    "                216: \"United States of America\",\n",
    "                }\n",
    "\n",
    "    def country_name(country_id):\n",
    "        return countries[country_id]\n",
    "\n",
    "    df[\"country\"] = df[\"country_code\"].apply(country_name)\n",
    "\n",
    "\n",
    "\n",
    "    # Defining price ranges with a more intuitive description.\n",
    "    def create_price_type(price_range):\n",
    "        if price_range == 1:\n",
    "            return \"cheap\"\n",
    "        elif price_range == 2:\n",
    "            return \"normal\"\n",
    "        elif price_range == 3:\n",
    "            return \"expensive\"\n",
    "        else:\n",
    "            return \"gourmet\"\n",
    "\n",
    "    df[\"price_type\"] = df[\"price_range\"].apply(create_price_type)\n",
    "\n",
    "\n",
    "\n",
    "    # Transforming the hex code to color name.\n",
    "    colors = {\n",
    "            \"3F7E00\": \"darkgreen\",\n",
    "            \"5BA829\": \"green\",\n",
    "            \"9ACD32\": \"lightgreen\",\n",
    "            \"CDD614\": \"lemon\",\n",
    "            \"FFBA00\": \"yellow\",\n",
    "            \"CBCBC8\": \"gray\",\n",
    "            \"FF7800\": \"orange\",\n",
    "            }\n",
    "\n",
    "    def color_name(hex_code):\n",
    "        return colors[hex_code]\n",
    "\n",
    "    df[\"rating_color\"] = df[\"rating_color\"].apply(color_name)\n",
    "\n",
    "\n",
    "\n",
    "    # Translating the rating text.\n",
    "    rating_text = {\n",
    "                    \"darkgreen\": \"Excellent\",\n",
    "                    \"green\": \"Very Good\",\n",
    "                    \"lightgreen\": \"Good\",\n",
    "                    \"lemon\": \"Average\",\n",
    "                    \"yellow\": \"Average\",\n",
    "                    \"gray\": \"Not rated\",\n",
    "                    \"orange\": \"Poor\",\n",
    "                    }\n",
    "\n",
    "    def rating_translation(rating_color):\n",
    "        return rating_text[rating_color]\n",
    "\n",
    "    df[\"rating_text\"] = df[\"rating_color\"].apply(rating_translation)\n",
    "\n",
    "\n",
    "\n",
    "    # Also use only one type of cuisine for the restaurants.\n",
    "    df[\"cuisines\"] = df.loc[:, \"cuisines\"].apply(lambda x: x.split(\",\")[0])\n",
    "\n",
    "\n",
    "\n",
    "    # Convert every currency to Dollar and delete absurd values (over $ 10.000 a meal)\n",
    "    currency_convertion_to_dollar = {\n",
    "                                    'Botswana Pula(P)': 0.076,\n",
    "                                    'Brazilian Real(R$)': 0.21,\n",
    "                                    'Dollar($)': 1.0,\n",
    "                                    'Emirati Diram(AED)': 0.27,\n",
    "                                    'Indian Rupees(Rs.)': 0.012,\n",
    "                                    'Indonesian Rupiah(IDR)': 0.000067,\n",
    "                                    'NewZealand($)': 0.64,\n",
    "                                    'Pounds(£)': 1.31,\n",
    "                                    'Qatari Rial(QR)': 0.27,\n",
    "                                    'Rand(R)': 0.055,\n",
    "                                    'Sri Lankan Rupee(LKR)': 0.0031,\n",
    "                                    'Turkish Lira(TL)': 0.038\n",
    "                                    }\n",
    "\n",
    "    def price_in_dollar(original_currency, original_price):\n",
    "        return currency_convertion_to_dollar[original_currency] * original_price\n",
    "\n",
    "    df[\"dollar_average_cost_for_two\"] = df.apply(lambda x: price_in_dollar(x[\"currency\"], x[\"average_cost_for_two\"]), axis=1)\n",
    "    df = df.loc[ (df[\"dollar_average_cost_for_two\"] < 1000) ,:]\n",
    "\n",
    "\n",
    "    # Reset index after cleaning everything.\n",
    "    return df.reset_index(drop=True)"
   ]
  },
  {
   "cell_type": "code",
   "execution_count": 6,
   "id": "8a566254-bbf1-49c4-9c79-3f5fd4bd34a5",
   "metadata": {},
   "outputs": [],
   "source": [
    "df = clean_code(df)"
   ]
  },
  {
   "cell_type": "markdown",
   "id": "df4f6847-e5b6-4604-8525-ab74fa2a7119",
   "metadata": {
    "tags": []
   },
   "source": [
    "# Zomato Marketplace: KPIs and Business Insights"
   ]
  },
  {
   "cell_type": "markdown",
   "id": "a5abd850-405a-4384-931a-287ebc2d8e76",
   "metadata": {},
   "source": [
    "Zomato is the connection between restaurants spread around the world and those ready for a meal. The following analysis will help us identify the best way improve our services and grow together."
   ]
  },
  {
   "cell_type": "code",
   "execution_count": 7,
   "id": "c8c3b11c-2247-432f-955b-b956f0fe8cb0",
   "metadata": {},
   "outputs": [],
   "source": [
    "# HELPER FUNCTIONS ----------------------------------------------------------------------------------------------------\n",
    "def adjust_df(df):\n",
    "    # Index starting from 1\n",
    "    df.index = df.index + 1\n",
    "    \n",
    "    # Centered format\n",
    "    df = df.style.set_table_styles( [ {'selector': 'thead th', 'props': [('text-align', 'center')] } ] )\n",
    "    df = df.set_properties(**{'text-align': 'center'})\n",
    "    \n",
    "    return df\n",
    "\n",
    "\n",
    "# ----------------------------------------------------------------------------------------------------------------------"
   ]
  },
  {
   "cell_type": "markdown",
   "id": "3e65c5e7-4a79-43bb-ab80-bf2b653c9442",
   "metadata": {
    "jp-MarkdownHeadingCollapsed": true,
    "tags": []
   },
   "source": [
    "## 1 Overview"
   ]
  },
  {
   "cell_type": "code",
   "execution_count": 8,
   "id": "1de5adf6-1da0-4a26-b429-f5f6305ab242",
   "metadata": {},
   "outputs": [
    {
     "data": {
      "text/plain": [
       "Index(['restaurant_id', 'restaurant_name', 'country_code', 'city', 'address',\n",
       "       'locality', 'locality_verbose', 'longitude', 'latitude', 'cuisines',\n",
       "       'average_cost_for_two', 'currency', 'has_table_booking',\n",
       "       'has_online_delivery', 'is_delivering_now', 'switch_to_order_menu',\n",
       "       'price_range', 'aggregate_rating', 'rating_color', 'rating_text',\n",
       "       'votes', 'country', 'price_type', 'dollar_average_cost_for_two'],\n",
       "      dtype='object')"
      ]
     },
     "execution_count": 8,
     "metadata": {},
     "output_type": "execute_result"
    }
   ],
   "source": [
    "df.columns"
   ]
  },
  {
   "cell_type": "code",
   "execution_count": 9,
   "id": "b8155459-70a5-4df6-aafe-7eb40886ef7b",
   "metadata": {},
   "outputs": [
    {
     "name": "stderr",
     "output_type": "stream",
     "text": [
      "2024-01-25 13:43:17.668 \n",
      "  \u001b[33m\u001b[1mWarning:\u001b[0m to view this Streamlit app on a browser, run it with the following\n",
      "  command:\n",
      "\n",
      "    streamlit run C:\\Users\\victo\\anaconda\\lib\\site-packages\\ipykernel_launcher.py [ARGUMENTS]\n"
     ]
    },
    {
     "data": {
      "text/plain": [
       "DeltaGenerator()"
      ]
     },
     "execution_count": 9,
     "metadata": {},
     "output_type": "execute_result"
    }
   ],
   "source": [
    "locations = df[['latitude','longitude']].values.tolist()\n",
    "popups = df[['city','restaurant_name','aggregate_rating']].values.tolist()\n",
    "\n",
    "\n",
    "mapa = folium.Map()\n",
    "\n",
    "MarkerCluster(locations=locations, popups=popups).add_to(mapa)\n",
    "\n",
    "folium_static(mapa, width=1024, height=600)"
   ]
  },
  {
   "cell_type": "markdown",
   "id": "91e7124c-feb2-4592-be92-a56b87309f40",
   "metadata": {
    "tags": []
   },
   "source": [
    "#### 1.1 Number of Unique registered Restaurants in the Zomato Marketplace."
   ]
  },
  {
   "cell_type": "code",
   "execution_count": 10,
   "id": "7f08f773-1d86-4821-aa58-59b31ae2107e",
   "metadata": {},
   "outputs": [
    {
     "name": "stdout",
     "output_type": "stream",
     "text": [
      "6928\n"
     ]
    }
   ],
   "source": [
    "#SA Show number of unique restaurants in the dataframe.\n",
    "#PE Count the amount of different \"restaurant_id\"s using len() and .unique().\n",
    "num_of_unique_restaurants = len( df[\"restaurant_id\"].unique() )\n",
    "print(num_of_unique_restaurants)"
   ]
  },
  {
   "cell_type": "markdown",
   "id": "0a3ea274-4311-4e49-a251-0a532f17f862",
   "metadata": {
    "tags": []
   },
   "source": [
    "#### 1.2 Number of Unique registered Countries."
   ]
  },
  {
   "cell_type": "code",
   "execution_count": 11,
   "id": "cf3d9986-51d5-46b5-aa3d-a5cf0c14a361",
   "metadata": {},
   "outputs": [
    {
     "name": "stdout",
     "output_type": "stream",
     "text": [
      "15\n"
     ]
    }
   ],
   "source": [
    "#SA Show number of unique countries in the dataframe.\n",
    "#PE Count the amount of different \"country\"s using len() and .unique().\n",
    "num_of_unique_countries = len( df[\"country\"].unique() )\n",
    "print(num_of_unique_countries)"
   ]
  },
  {
   "cell_type": "markdown",
   "id": "b7e851c8-4214-49ce-9c81-517ce70a80fa",
   "metadata": {
    "tags": []
   },
   "source": [
    "#### 1.3 Number of Unique registered Cities."
   ]
  },
  {
   "cell_type": "code",
   "execution_count": 12,
   "id": "e68c6c63-981a-429a-adb3-c4a66d1af43c",
   "metadata": {},
   "outputs": [
    {
     "name": "stdout",
     "output_type": "stream",
     "text": [
      "125\n"
     ]
    }
   ],
   "source": [
    "#SA Show number of unique cities in the dataframe.\n",
    "#PE Count the amount of different \"city\"s using len() and .unique().\n",
    "num_of_unique_cities = len( df[\"city\"].unique() )\n",
    "print(num_of_unique_cities)"
   ]
  },
  {
   "cell_type": "markdown",
   "id": "56cb820c-006c-42ea-bbea-e2577166d439",
   "metadata": {
    "tags": []
   },
   "source": [
    "#### 1.4 Total of Ratings and Average Rating in the platform."
   ]
  },
  {
   "cell_type": "code",
   "execution_count": 13,
   "id": "9d91b8b2-d6ca-418b-8885-320ef5a808d7",
   "metadata": {},
   "outputs": [
    {
     "name": "stdout",
     "output_type": "stream",
     "text": [
      "4194330\n"
     ]
    }
   ],
   "source": [
    "#SA Show total number of ratings in the dataframe.\n",
    "#PE Just sum all the \"votes\".\n",
    "num_of_unique_ratings = df[\"votes\"].sum()\n",
    "print(num_of_unique_ratings)"
   ]
  },
  {
   "cell_type": "code",
   "execution_count": 14,
   "id": "81939998-f83d-4abe-ab10-1558636adf30",
   "metadata": {},
   "outputs": [
    {
     "name": "stdout",
     "output_type": "stream",
     "text": [
      "4.13\n"
     ]
    }
   ],
   "source": [
    "#SA Show average value of ratings in the dataframe.\n",
    "#PE Just take the mean of all the \"aggregate_rating\"s.\n",
    "average_rating = df[\"aggregate_rating\"].mean()\n",
    "print(\"{:.2f}\".format(average_rating))"
   ]
  },
  {
   "cell_type": "markdown",
   "id": "334f8819-069f-4d79-bc67-3861891535bf",
   "metadata": {
    "tags": []
   },
   "source": [
    "#### 1.5 Number of Cuisines available."
   ]
  },
  {
   "cell_type": "code",
   "execution_count": 15,
   "id": "3815e87c-d696-4bc3-b423-a448e2eea0da",
   "metadata": {},
   "outputs": [
    {
     "name": "stdout",
     "output_type": "stream",
     "text": [
      "165\n"
     ]
    }
   ],
   "source": [
    "#SA Show number of unique cuisines in the dataframe.\n",
    "#PE Count the amount of different \"cuisines\" using len() and .unique().\n",
    "num_of_unique_cuisines = len( df[\"cuisines\"].unique() )\n",
    "print(num_of_unique_cuisines)"
   ]
  },
  {
   "cell_type": "markdown",
   "id": "b20c96c2-4bb6-439a-ab90-dc5d27c20db8",
   "metadata": {
    "tags": []
   },
   "source": [
    "## 2 Countries Vision"
   ]
  },
  {
   "cell_type": "markdown",
   "id": "4b502b80-fad5-410e-817e-a8a9b950b555",
   "metadata": {
    "tags": []
   },
   "source": [
    "#### 2.1 Country with most Registered Cities."
   ]
  },
  {
   "cell_type": "code",
   "execution_count": 23,
   "id": "24a5d769-baf9-4340-836c-59d0675c04b1",
   "metadata": {},
   "outputs": [],
   "source": [
    "def countries_reg_cities_df():\n",
    "    # Countries with most unique cities\n",
    "    df_cities_by_country = ( df.loc[ : , [\"country\", \"city\"] ].groupby( [\"country\"] ).nunique()\n",
    "                                                              .sort_values(\"city\", ascending=False)\n",
    "                                                              .reset_index() )\n",
    "    \n",
    "    reg_cities = df_cities_by_country.loc[ :4 , [\"country\", \"city\"] ]\n",
    "\n",
    "    df_restaurants_by_country = ( df.loc[ : , [\"country\", \"restaurant_id\"] ].groupby( [\"country\"] ).nunique()\n",
    "                                                                            .sort_values(\"restaurant_id\", ascending=False)\n",
    "                                                                            .reset_index() )\n",
    "\n",
    "    df_restaurants_by_country.columns = [ \"country\", \"restaurant_amount\" ]\n",
    "    \n",
    "    countries_reg_cities_df = pd.merge( reg_cities, df_restaurants_by_country, on='country', how='left' )\n",
    "    \n",
    "    return adjust_df( countries_reg_cities_df ) "
   ]
  },
  {
   "cell_type": "markdown",
   "id": "eefd82ca-5027-4edf-ac02-5056b819be6a",
   "metadata": {
    "jp-MarkdownHeadingCollapsed": true,
    "tags": []
   },
   "source": [
    "#### ~~2.2 Country with most Registered Restaurants.~~"
   ]
  },
  {
   "cell_type": "code",
   "execution_count": 18,
   "id": "c3823f3a-4018-4510-9e1c-00249eda6828",
   "metadata": {},
   "outputs": [
    {
     "data": {
      "text/html": [
       "<div>\n",
       "<style scoped>\n",
       "    .dataframe tbody tr th:only-of-type {\n",
       "        vertical-align: middle;\n",
       "    }\n",
       "\n",
       "    .dataframe tbody tr th {\n",
       "        vertical-align: top;\n",
       "    }\n",
       "\n",
       "    .dataframe thead th {\n",
       "        text-align: right;\n",
       "    }\n",
       "</style>\n",
       "<table border=\"1\" class=\"dataframe\">\n",
       "  <thead>\n",
       "    <tr style=\"text-align: right;\">\n",
       "      <th></th>\n",
       "      <th>country</th>\n",
       "      <th>restaurant_amount</th>\n",
       "    </tr>\n",
       "  </thead>\n",
       "  <tbody>\n",
       "    <tr>\n",
       "      <th>0</th>\n",
       "      <td>India</td>\n",
       "      <td>3111</td>\n",
       "    </tr>\n",
       "    <tr>\n",
       "      <th>1</th>\n",
       "      <td>United States of America</td>\n",
       "      <td>1374</td>\n",
       "    </tr>\n",
       "    <tr>\n",
       "      <th>2</th>\n",
       "      <td>England</td>\n",
       "      <td>400</td>\n",
       "    </tr>\n",
       "    <tr>\n",
       "      <th>3</th>\n",
       "      <td>South Africa</td>\n",
       "      <td>346</td>\n",
       "    </tr>\n",
       "    <tr>\n",
       "      <th>4</th>\n",
       "      <td>United Arab Emirates</td>\n",
       "      <td>300</td>\n",
       "    </tr>\n",
       "    <tr>\n",
       "      <th>5</th>\n",
       "      <td>Brazil</td>\n",
       "      <td>240</td>\n",
       "    </tr>\n",
       "    <tr>\n",
       "      <th>6</th>\n",
       "      <td>New Zeland</td>\n",
       "      <td>239</td>\n",
       "    </tr>\n",
       "    <tr>\n",
       "      <th>7</th>\n",
       "      <td>Canada</td>\n",
       "      <td>180</td>\n",
       "    </tr>\n",
       "    <tr>\n",
       "      <th>8</th>\n",
       "      <td>Australia</td>\n",
       "      <td>179</td>\n",
       "    </tr>\n",
       "    <tr>\n",
       "      <th>9</th>\n",
       "      <td>Turkey</td>\n",
       "      <td>159</td>\n",
       "    </tr>\n",
       "    <tr>\n",
       "      <th>10</th>\n",
       "      <td>Indonesia</td>\n",
       "      <td>80</td>\n",
       "    </tr>\n",
       "    <tr>\n",
       "      <th>11</th>\n",
       "      <td>Philippines</td>\n",
       "      <td>80</td>\n",
       "    </tr>\n",
       "    <tr>\n",
       "      <th>12</th>\n",
       "      <td>Qatar</td>\n",
       "      <td>80</td>\n",
       "    </tr>\n",
       "    <tr>\n",
       "      <th>13</th>\n",
       "      <td>Singapure</td>\n",
       "      <td>80</td>\n",
       "    </tr>\n",
       "    <tr>\n",
       "      <th>14</th>\n",
       "      <td>Sri Lanka</td>\n",
       "      <td>80</td>\n",
       "    </tr>\n",
       "  </tbody>\n",
       "</table>\n",
       "</div>"
      ],
      "text/plain": [
       "                     country  restaurant_amount\n",
       "0                      India               3111\n",
       "1   United States of America               1374\n",
       "2                    England                400\n",
       "3               South Africa                346\n",
       "4       United Arab Emirates                300\n",
       "5                     Brazil                240\n",
       "6                 New Zeland                239\n",
       "7                     Canada                180\n",
       "8                  Australia                179\n",
       "9                     Turkey                159\n",
       "10                 Indonesia                 80\n",
       "11               Philippines                 80\n",
       "12                     Qatar                 80\n",
       "13                 Singapure                 80\n",
       "14                 Sri Lanka                 80"
      ]
     },
     "execution_count": 18,
     "metadata": {},
     "output_type": "execute_result"
    }
   ],
   "source": [
    "#SA Name of country with most unique restaurants.\n",
    "\n",
    "#PE Group restaurants by country and count unique restaurants using .groupby() and .nunique(). Order countries by number of restaurants with \n",
    "#PE .sort_values() (descending) and show the first country.\n",
    "df_restaurants_by_country = ( df.loc[ : , [\"country\", \"restaurant_id\"] ].groupby( [\"country\"] ).nunique()\n",
    "                                                                        .sort_values(\"restaurant_id\", ascending=False)\n",
    "                                                                        .reset_index() )\n",
    "\n",
    "df_restaurants_by_country.columns = [ \"country\", \"restaurant_amount\" ]\n",
    "df_restaurants_by_country.loc[ : , [\"country\", \"restaurant_amount\"] ]"
   ]
  },
  {
   "cell_type": "markdown",
   "id": "6cc07c3b-2ac9-467e-9e33-d9dc4265ad61",
   "metadata": {
    "jp-MarkdownHeadingCollapsed": true,
    "tags": []
   },
   "source": [
    "#### ~~2.3 Country with most Registered Restaurants that has the Price of Gourmet (maximum average Price Range: 4).~~"
   ]
  },
  {
   "cell_type": "code",
   "execution_count": null,
   "id": "c089676c-26f5-4e95-a256-569dc4218158",
   "metadata": {},
   "outputs": [],
   "source": [
    "#SA Name of country with most unique restaurants with price range 4.\n",
    "#PE Create auxiliary dataframe with only restaurants with price_range == 4.\n",
    "#PE Group restaurants by country and count unique restaurants using .groupby() and .nunique(). Order countries by number of restaurants with \n",
    "#PE .sort_values() (descending) and show the first country.\n",
    "df_price_range_4 = df.loc[ ( df.loc[ : , \"price_range\" ] == 4 ) , : ]\n",
    "df_price4_country = ( df_price_range_4.loc[ : , [\"country\", \"restaurant_id\"] ].groupby( [\"country\"] ).nunique()\n",
    "                                                                              .sort_values(\"restaurant_id\", ascending=False)\n",
    "                                                                              .reset_index() )\n",
    "\n",
    "df_price4_country.loc[ 0 , \"country\" ]"
   ]
  },
  {
   "cell_type": "markdown",
   "id": "d993aeee-4a69-4199-9199-fe8bfc230d5a",
   "metadata": {
    "jp-MarkdownHeadingCollapsed": true,
    "tags": []
   },
   "source": [
    "#### 2.4 Country with most Cuisine types."
   ]
  },
  {
   "cell_type": "code",
   "execution_count": null,
   "id": "5282d306-5493-41cb-bc60-2094eb6fbd95",
   "metadata": {},
   "outputs": [],
   "source": [
    "def countries_cuisines_df():\n",
    "    # Countries with most unique cuisines\n",
    "    df_cuisines_by_country = ( df.loc[ : , [\"country\", \"cuisines\"] ].groupby( [\"country\"] ).nunique()\n",
    "                                                                    .sort_values(\"cuisines\", ascending=False)\n",
    "                                                                    .reset_index() )\n",
    "\n",
    "    df_cuisines_by_country = df_cuisines_by_country.loc[ 0:4 , [\"country\", \"cuisines\"] ]\n",
    "\n",
    "    return adjust_df(df_cuisines_by_country)\n",
    "\n",
    "countries_cuisines_df()"
   ]
  },
  {
   "cell_type": "markdown",
   "id": "6c180595-8440-4e31-83fb-204106e52ff1",
   "metadata": {
    "jp-MarkdownHeadingCollapsed": true,
    "tags": []
   },
   "source": [
    "#### ~~2.5 Country with biggest absolute amount of Ratings.~~"
   ]
  },
  {
   "cell_type": "code",
   "execution_count": null,
   "id": "960c9a05-f6e5-485a-9e9d-6c2182386255",
   "metadata": {},
   "outputs": [],
   "source": [
    "#SA Name of country with most ratings.\n",
    "#PE Group votes by country and count votes using .groupby() and .votes(). Order countries by number of votes with \n",
    "#PE .sort_values() (descending) and show the first country.\n",
    "df_cities_by_country = ( df.loc[ : , [\"country\", \"votes\"] ].groupby( [\"country\"] ).sum()\n",
    "                                                           .sort_values(\"votes\", ascending=False)\n",
    "                                                           .reset_index() )\n",
    "\n",
    "df_cities_by_country.loc[ 0 , \"country\" ]"
   ]
  },
  {
   "cell_type": "markdown",
   "id": "e0f3a2b2-af88-4390-962e-008260767d04",
   "metadata": {
    "jp-MarkdownHeadingCollapsed": true,
    "tags": []
   },
   "source": [
    "#### 2.6 Country with most Ratings per Restaurant"
   ]
  },
  {
   "cell_type": "code",
   "execution_count": null,
   "id": "bc99c29f-ba26-4cdd-afb3-5f888ab66b49",
   "metadata": {},
   "outputs": [],
   "source": [
    "def countries_ratings_per_restaurant_df():\n",
    "    # Most ratings per restaurant\n",
    "\n",
    "    # Group votes by country and count votes\n",
    "    df_num_votes_by_country = ( df.loc[ : , [\"country\", \"votes\"] ].groupby( [\"country\"] ).sum()\n",
    "                                                                  .sort_values(\"votes\", ascending=False)\n",
    "                                                                  .reset_index() )\n",
    "\n",
    "\n",
    "    # Group restaurants by country and count unique restaurants\n",
    "    df_num_of_restaurants_by_country = ( df.loc[ : , [\"country\", \"restaurant_id\"] ].groupby( [\"country\"] ).nunique()\n",
    "                                                                                   .sort_values(\"restaurant_id\", ascending=False)\n",
    "                                                                                   .reset_index() )\n",
    "\n",
    "    # Merge df_num_votes_by_country and df_num_of_restaurants_by_country \n",
    "    # Create a new column with ratings_per_restaurant\n",
    "    df_rate_ratings_by_country = pd.merge(df_num_votes_by_country, df_num_of_restaurants_by_country, how=\"inner\")\n",
    "    df_rate_ratings_by_country[\"ratings_per_restaurant\"] = df_rate_ratings_by_country[\"votes\"] / df_rate_ratings_by_country[\"restaurant_id\"]\n",
    "    df_rate_ratings_by_country[\"ratings_per_restaurant\"] = df_rate_ratings_by_country[\"ratings_per_restaurant\"]\n",
    "\n",
    "    # Use only country and ratings_per_restaurant\n",
    "    top_ratings_per_restaurant = df_rate_ratings_by_country.sort_values(\"ratings_per_restaurant\", ascending=False).reset_index(drop=True)\n",
    "    \n",
    "    top_ratings_per_restaurant = top_ratings_per_restaurant.loc[ :4, [\"country\", \"ratings_per_restaurant\" ] ]\n",
    "    top_ratings_per_restaurant['ratings_per_restaurant'] = top_ratings_per_restaurant['ratings_per_restaurant'].astype(int)\n",
    "\n",
    "    \n",
    "    return adjust_df(top_ratings_per_restaurant)\n",
    "\n",
    "countries_ratings_per_restaurant_df()"
   ]
  },
  {
   "cell_type": "markdown",
   "id": "f137d165-4685-4b0d-a5af-d8698967116c",
   "metadata": {
    "jp-MarkdownHeadingCollapsed": true,
    "tags": []
   },
   "source": [
    "#### 2.7 Countries by Ratings."
   ]
  },
  {
   "cell_type": "code",
   "execution_count": null,
   "id": "f8ff4017-4b1a-4e91-ab82-997456640d33",
   "metadata": {},
   "outputs": [],
   "source": [
    "def country_ratings_avg_chart():\n",
    "    # Best and Worst rated countries\n",
    "    \n",
    "    # Group by Ratings\n",
    "    df_ratings = ( df.loc[ : , [\"country\", \"aggregate_rating\"] ].groupby( [\"country\"] ).mean()\n",
    "                                                                .sort_values(\"aggregate_rating\", ascending=False)\n",
    "                                                                .reset_index() )\n",
    "\n",
    "    top3_bottom3 = pd.concat( [df_ratings.head(3), df_ratings.tail(3)] )\n",
    "    mean_rating = df_ratings['aggregate_rating'].mean()\n",
    "    \n",
    "    # Setting ratings colors\n",
    "    top3_bottom3['color'] = ['skyblue' if country in top3_bottom3.head(3)['country'].values else 'indianred' for country in top3_bottom3['country']]\n",
    "    \n",
    "    # Defining chart data\n",
    "    fig = go.Figure(data=[go.Bar( x=top3_bottom3['country'],\n",
    "                                  y=top3_bottom3['aggregate_rating'],\n",
    "                                  text=top3_bottom3['aggregate_rating'],\n",
    "                                  marker_color=top3_bottom3['color'], opacity=0.9 )])\n",
    "\n",
    "    fig.add_shape(type='line', x0=-0.5, x1=len(top3_bottom3)-0.5, y0=mean_rating, y1=mean_rating,\n",
    "                  line=dict(color='gray', width=1, dash='dash'))\n",
    "\n",
    "    fig.update_layout(title_text='Top 3 and Bottom 3 countries based on Average Rating (gray line as overall average)', title_x=0.5,\n",
    "                      xaxis_title='Country', yaxis_title='Average Rating')\n",
    "\n",
    "    fig.update_traces(textposition='inside', texttemplate='%{text:.2f}', textfont=dict(size=12), hoverinfo='text+y', insidetextanchor='start')\n",
    "\n",
    "    return fig\n",
    "\n",
    "country_ratings_avg_chart()"
   ]
  },
  {
   "cell_type": "markdown",
   "id": "3c422a64-8510-4597-b4cb-13486f1c5fe1",
   "metadata": {
    "jp-MarkdownHeadingCollapsed": true,
    "tags": []
   },
   "source": [
    "#### ~~2.8 Country with worst Ratings.~~"
   ]
  },
  {
   "cell_type": "code",
   "execution_count": null,
   "id": "8a4b4f27-4da0-4995-ac74-85923b41bcaa",
   "metadata": {},
   "outputs": [],
   "source": [
    "#SA Name of country with worst ratings.\n",
    "#PE Group votes by country and count votes using .groupby() and .votes(). Order countries by number of votes with \n",
    "#PE .sort_values() (ascending) and show the first country.\n",
    "df_ratings = ( df.loc[ : , [\"country\", \"aggregate_rating\"] ].groupby( [\"country\"] ).mean()\n",
    "                                                            .sort_values(\"aggregate_rating\", ascending=False)\n",
    "                                                            .reset_index() )\n",
    "\n",
    "top3_bottom3 = pd.concat( [df_ratings.head(3), df_ratings.tail(3)] )\n",
    "top3_bottom3"
   ]
  },
  {
   "cell_type": "markdown",
   "id": "4eab1a49-ab43-41ce-a6e0-2253ad823a33",
   "metadata": {
    "jp-MarkdownHeadingCollapsed": true,
    "tags": []
   },
   "source": [
    "#### ~~2.9 Country with most absolute amount Restaurants with Delivery option.~~"
   ]
  },
  {
   "cell_type": "code",
   "execution_count": null,
   "id": "51115ada-1d6a-4c3e-9d4b-ce0e159ad112",
   "metadata": {},
   "outputs": [],
   "source": [
    "#SA Name of country with most restaurants with delivery option.\n",
    "#PE Create auxiliary dataframe with only restaurants with delivery option.\n",
    "#PE Group restaurants by country and count unique restaurants using .groupby() and .nunique(). Order countries by number of restaurants with \n",
    "#PE .sort_values() (descending) and show the first country.\n",
    "df_delivery_available = df.loc[ ( df.loc[ : , \"is_delivering_now\" ] == 1 ) , : ]\n",
    "df_delivery_options_by_country = ( df_delivery_available.loc[ : , [\"country\", \"restaurant_id\"] ].groupby( [\"country\"] ).nunique()\n",
    "                                                                                                .sort_values(\"restaurant_id\", ascending=False)\n",
    "                                                                                                .reset_index() )\n",
    "\n",
    "df_delivery_options_by_country.loc[ 0 , \"country\" ]"
   ]
  },
  {
   "cell_type": "markdown",
   "id": "dd1f0eac-7459-46aa-8fe3-35795bf1dc39",
   "metadata": {
    "jp-MarkdownHeadingCollapsed": true,
    "tags": []
   },
   "source": [
    "#### 2.10 Country with Delivery presence."
   ]
  },
  {
   "cell_type": "code",
   "execution_count": null,
   "id": "36d8af67-ec5c-468f-9eec-31db3e06e087",
   "metadata": {},
   "outputs": [],
   "source": [
    "def countries_delivery_presence_df():\n",
    "    #SA Name of country with best frequency of delivery option.\n",
    "\n",
    "    # Create a df_num_deliverers with only delivering restaurants.\n",
    "    df_num_deliverers = df.loc[ (df.loc[ : , \"is_delivering_now\" ] == 1) , : ]\n",
    "\n",
    "    # Group restaurants by country and count unique restaurants delivering\n",
    "    df_num_of_restaurants_by_country = ( df.loc[ : , [\"country\", \"restaurant_id\"] ].groupby( [\"country\"] ).nunique()\n",
    "                                                                                   .sort_values(\"restaurant_id\", ascending=False)\n",
    "                                                                                   .reset_index() )\n",
    "    \n",
    "    df_num_of_restaurants_by_country.rename(columns = {'restaurant_id':'total_restaurants'}, inplace = True)\n",
    "\n",
    "    # Group restaurants by country and count them all\n",
    "    df_num_deliv_by_country = ( df_num_deliverers.loc[ : , [\"country\", \"restaurant_id\"] ].groupby( [\"country\"] ).count()\n",
    "                                                                                         .sort_values(\"restaurant_id\", ascending=False)\n",
    "                                                                                         .reset_index() )\n",
    "    df_num_deliv_by_country.rename(columns = {'restaurant_id':'delivery_options'}, inplace = True)\n",
    "\n",
    "    # Merge df_num_deliv_by_country and df_num_of_restaurants_by_country. \n",
    "    # Create a new column with delivery_presence =  delivery_options / total_restaurants\n",
    "    df_freq_deliv_by_country = pd.merge(df_num_deliv_by_country, df_num_of_restaurants_by_country, on=\"country\", how=\"inner\")\n",
    "    df_freq_deliv_by_country[\"delivery_presence\"] = (df_freq_deliv_by_country[\"delivery_options\"] / df_freq_deliv_by_country[\"total_restaurants\"])\n",
    "    df_freq_deliv_by_country['delivery_presence'] = df_freq_deliv_by_country['delivery_presence'].apply(lambda x: f'{x:.2%}')\n",
    "\n",
    "    df_freq_deliv_by_country = df_freq_deliv_by_country[['country', 'total_restaurants', 'delivery_options', 'delivery_presence']]\n",
    "\n",
    "    \n",
    "    return adjust_df(df_freq_deliv_by_country)\n",
    "\n",
    "countries_delivery_presence_df()"
   ]
  },
  {
   "cell_type": "markdown",
   "id": "f50f692c-81de-4670-97e5-c99e5039aeae",
   "metadata": {
    "jp-MarkdownHeadingCollapsed": true,
    "tags": []
   },
   "source": [
    "#### ~~2.11 Country with most absolute amount Restaurants with Reservation option.~~"
   ]
  },
  {
   "cell_type": "code",
   "execution_count": null,
   "id": "a45e2b39-f433-4732-8a61-f4953aa609c1",
   "metadata": {},
   "outputs": [],
   "source": [
    "#SA Name of country with most restaurants with reservation option.\n",
    "#PE Create auxiliary dataframe with only restaurants with reservation option.\n",
    "#PE Group restaurants by country and count unique restaurants using .groupby() and .nunique(). Order countries by number of restaurants with \n",
    "#PE .sort_values() (descending) and show the first country.\n",
    "df_reservation_available = df.loc[ ( df.loc[ : , \"has_table_booking\" ] == 1 ) , : ]\n",
    "df_reservation_options_by_country = ( df_reservation_available.loc[ : , [\"country\", \"restaurant_id\"] ].groupby( [\"country\"] ).nunique()\n",
    "                                                                                                .sort_values(\"restaurant_id\", ascending=False)\n",
    "                                                                                                .reset_index() )\n",
    "\n",
    "df_reservation_options_by_country.loc[ 0 , \"country\" ]"
   ]
  },
  {
   "cell_type": "markdown",
   "id": "d7a08323-4ebd-4def-bd3a-a4db19dccaa1",
   "metadata": {
    "jp-MarkdownHeadingCollapsed": true,
    "tags": []
   },
   "source": [
    "#### ~~2.12 Country with greatest frequency of Restaurants with Reservation option.~~"
   ]
  },
  {
   "cell_type": "code",
   "execution_count": null,
   "id": "475ac2f6-08f4-44aa-ac4e-c956122fd267",
   "metadata": {},
   "outputs": [],
   "source": [
    "#SA Name of country with best frequency of reservation option.\n",
    "#PE Create a df_num_reservers with only reservation restaurants.\n",
    "df_num_reservers = df.loc[ (df.loc[ : , \"has_table_booking\" ] == 1) , : ]\n",
    "\n",
    "#PE Group retaurants by country and count them using .groupby() and .votes(). Order countries by number of restaurants with \n",
    "#PE .sort_values() (descending) and show the first country.\n",
    "df_num_reserv_by_country = ( df_num_reservers.loc[ : , [\"country\", \"restaurant_id\"] ].groupby( [\"country\"] ).count()\n",
    "                                                                                     .sort_values(\"restaurant_id\", ascending=False)\n",
    "                                                                                     .reset_index() )\n",
    "df_num_reserv_by_country.rename(columns = {'restaurant_id':'restaurant_reserv'}, inplace = True)\n",
    "\n",
    "# Create a df_num_of_restaurants_by_country.\n",
    "#PE Group restaurants by country and count unique restaurants using .groupby() and .nunique(). Order countries by number of restaurants with \n",
    "#PE .sort_values() (descending) and show the first country.\n",
    "df_num_of_restaurants_by_country = ( df.loc[ : , [\"country\", \"restaurant_id\"] ].groupby( [\"country\"] ).nunique()\n",
    "                                                                               .sort_values(\"restaurant_id\", ascending=False)\n",
    "                                                                               .reset_index() )\n",
    "df_num_of_restaurants_by_country.rename(columns = {'restaurant_id':'restaurant_amount'}, inplace = True)\n",
    "\n",
    "#PE Merge df_num_reserv_by_country and df_num_of_restaurants_by_country. Create a new column with rate_ratings =  votes / restaurant_id. Sort values \n",
    "#PE by rate_ratings (descending) and select the top country.\n",
    "df_freq_reserv_by_country = pd.merge(df_num_reserv_by_country, df_num_of_restaurants_by_country, on=\"country\", how=\"inner\")\n",
    "df_freq_reserv_by_country[\"freq_reserv_restaurant\"] = df_freq_reserv_by_country[\"restaurant_reserv\"] / df_freq_reserv_by_country[\"restaurant_amount\"]\n",
    "\n",
    "df_freq_reserv_by_country.sort_values(\"freq_reserv_restaurant\", ascending=False).reset_index(drop=True).loc[0, [\"country\"]]"
   ]
  },
  {
   "cell_type": "markdown",
   "id": "6b43c9bd-54d2-4948-bf81-6f108969400e",
   "metadata": {
    "jp-MarkdownHeadingCollapsed": true,
    "tags": []
   },
   "source": [
    "#### 2.13 Average Cost For Two in each Country."
   ]
  },
  {
   "cell_type": "code",
   "execution_count": null,
   "id": "0de6e97b-7402-456f-b1f6-ebd1073295e3",
   "metadata": {},
   "outputs": [],
   "source": [
    "def countries_avg_cost_chart():\n",
    "    # Bar plot of average cost for two in dollars in each country\n",
    "    df_cost_by_country = ( df.loc[ : , [\"country\", \"dollar_average_cost_for_two\"] ].groupby( [\"country\"] ).mean()\n",
    "                                                                                   .sort_values(\"dollar_average_cost_for_two\", ascending=False)\n",
    "                                                                                   .reset_index() )\n",
    "\n",
    "    # Plot\n",
    "    fig = go.Figure()\n",
    "\n",
    "    fig.add_trace(go.Bar(\n",
    "        x=df_cost_by_country['country'],\n",
    "        y=df_cost_by_country['dollar_average_cost_for_two'],\n",
    "        marker_color='skyblue' ))\n",
    "\n",
    "    fig.update_layout(\n",
    "        title='Average Cost for Two by Country',\n",
    "        xaxis_title='Country',\n",
    "        yaxis_title='Average Cost for Two (in dollars)', title_x=0.5,\n",
    "        xaxis=dict(tickangle=45, tickmode='array'))\n",
    "\n",
    "    return fig\n",
    "\n",
    "countries_avg_cost_chart()"
   ]
  },
  {
   "cell_type": "markdown",
   "id": "6df03db5-cc56-4fe1-a8e3-3d265a60c28b",
   "metadata": {
    "jp-MarkdownHeadingCollapsed": true,
    "tags": []
   },
   "source": [
    "## 3 Cities Vision"
   ]
  },
  {
   "cell_type": "markdown",
   "id": "1405a845-b6e3-4e8b-bc05-67a7e08d795b",
   "metadata": {
    "jp-MarkdownHeadingCollapsed": true,
    "tags": []
   },
   "source": [
    "#### 3.1 Restaurant population per city"
   ]
  },
  {
   "cell_type": "code",
   "execution_count": null,
   "id": "be45b472-8552-4d7a-95ec-250aa543040f",
   "metadata": {},
   "outputs": [],
   "source": [
    "def cities_restaurant_pop_chart():\n",
    "    # Barplot of amount of cities with certain restaurant populations\n",
    "    df_restaurants_by_city = ( df.loc[ : , [\"city\", \"restaurant_id\"] ].groupby( [\"city\"] ).nunique()\n",
    "                                                                      .sort_values(\"restaurant_id\", ascending=False)\n",
    "                                                                      .reset_index() )\n",
    "\n",
    "    df_restaurants_by_city.columns = [\"city\", \"number_of_restaurants\"]\n",
    "\n",
    "\n",
    "    cat = ['1-20', '21-40', '41-60', '61+']\n",
    "\n",
    "    df_restaurants_by_city['number_of_restaurants'] = df_restaurants_by_city['number_of_restaurants'].apply( lambda x: cat[0] if x<=20 else \n",
    "                                                                                                                       cat[1] if ( (x>20) & (x<=40) ) else\n",
    "                                                                                                                       cat[2] if ( (x>40) & (x<=60) ) else\n",
    "                                                                                                                       cat[3] )\n",
    "\n",
    "    df_restaurants_by_city = df_restaurants_by_city.loc[ :, [ 'number_of_restaurants', 'city' ] ].groupby('number_of_restaurants').count().reset_index()\n",
    "\n",
    "\n",
    "    # Barplot\n",
    "    fig = go.Figure()\n",
    "\n",
    "    fig.add_trace(go.Bar(\n",
    "                    x=df_restaurants_by_city['number_of_restaurants'],\n",
    "                    y=df_restaurants_by_city['city'],\n",
    "                    marker_color='indianred'))\n",
    "\n",
    "    fig.update_layout(\n",
    "        title='How many cities have restaurant population of 1-20, 21-40, 41-60 and 61+?',\n",
    "        xaxis_title='Restaurant population rate',\n",
    "        yaxis_title='Amount of Cities', title_x=0.5,\n",
    "        xaxis=dict(tickangle=45, tickmode='array'))\n",
    "\n",
    "    return fig\n",
    "\n",
    "cities_restaurant_pop_chart()"
   ]
  },
  {
   "cell_type": "markdown",
   "id": "26e9a74e-8221-44c5-926a-528b79ea0df6",
   "metadata": {
    "jp-MarkdownHeadingCollapsed": true,
    "tags": []
   },
   "source": [
    "#### 3.2 Cities with most restaurants with good (4.5+) rating."
   ]
  },
  {
   "cell_type": "code",
   "execution_count": null,
   "id": "9aa9373d-9d23-42ef-b5ad-85335b544f8b",
   "metadata": {},
   "outputs": [],
   "source": [
    "def cities_most_excellent_restaurants_chart():\n",
    "    #SA Barplot of cities with most 4.5+ rating restaurants.\n",
    "    df_good_ratings = df.loc[ df[\"aggregate_rating\"] >= 4.5, :]\n",
    "\n",
    "    df_restaurants_by_city_and_good_rating = ( df_good_ratings.loc[ : , [\"city\", \"restaurant_id\"] ].groupby( [\"city\"] ).nunique()\n",
    "                                                                                                   .sort_values(\"restaurant_id\", ascending=False)\n",
    "                                                                                                   .reset_index() )\n",
    "\n",
    "    df_restaurants_by_city_and_good_rating.columns = [\"city\", \"number_of_well_rated_restaurants\"]\n",
    "    top_10_cities = df_restaurants_by_city_and_good_rating.loc[ :9, : ]\n",
    "    top_10_cities = pd.merge(top_10_cities, df[['city', 'country']], on='city', how='inner').drop_duplicates().reset_index(drop=True)\n",
    "\n",
    "    \n",
    "    # Bar chart\n",
    "    fig = go.Figure(data=[go.Bar( x=top_10_cities['city'],\n",
    "                                  y=top_10_cities['number_of_well_rated_restaurants'],\n",
    "                                  hovertemplate=top_10_cities['country'],\n",
    "                                  marker_color='skyblue' )])\n",
    "\n",
    "    fig.update_layout(title_text='Cities with most restaurants rated as Excellent', title_x=0.5,\n",
    "                      xaxis_title='City', yaxis_title='Amount of Excellent Restaurants')\n",
    "    \n",
    "\n",
    "    return fig\n",
    "\n",
    "cities_most_excellent_restaurants_chart()"
   ]
  },
  {
   "cell_type": "code",
   "execution_count": null,
   "id": "7540459b-7a82-46fc-bd9e-ec1469bb27b6",
   "metadata": {},
   "outputs": [],
   "source": []
  },
  {
   "cell_type": "markdown",
   "id": "45695caf-4e87-4903-b6c3-63d126ec2de4",
   "metadata": {
    "jp-MarkdownHeadingCollapsed": true,
    "tags": []
   },
   "source": [
    "#### ~~3.3 Cities with most restaurants with bad (2.5-) rating.~~"
   ]
  },
  {
   "cell_type": "code",
   "execution_count": null,
   "id": "31e9d62c-7ecb-4600-8c3d-7698dba4e575",
   "metadata": {},
   "outputs": [],
   "source": [
    "#SA Table with cities with most 4+ rating restaurants.\n",
    "#PE Select only restaurants with ratings 4+ using .loc, then group them by city .groupby.nunique() and sort cities by most to less of those restaurants with .sort_values.\n",
    "\n",
    "df_bad_ratings = df.loc[ df[\"aggregate_rating\"] <= 3 , :]\n",
    "\n",
    "df_restaurants_by_city_and_bad_rating = ( df_bad_ratings.loc[ : , [\"city\", \"aggregate_rating\"] ].groupby( [\"city\"] ).nunique()\n",
    "                                                                                                .sort_values(\"aggregate_rating\", ascending=False)\n",
    "                                                                                                .reset_index() )\n",
    "df_restaurants_by_city_and_bad_rating.columns = [\"city\", \"number_of_badly_rated_restaurants\"]\n",
    "df_restaurants_by_city_and_bad_rating.loc[ 0:9 , : ]"
   ]
  },
  {
   "cell_type": "markdown",
   "id": "c3483e51-78f1-43ef-86df-ca8f3f015e8c",
   "metadata": {
    "jp-MarkdownHeadingCollapsed": true,
    "tags": []
   },
   "source": [
    "#### 3.4 Most expensive cities"
   ]
  },
  {
   "cell_type": "code",
   "execution_count": null,
   "id": "6914b078-7349-4efe-8228-5149e414d6b3",
   "metadata": {},
   "outputs": [],
   "source": [
    "def cities_cost_df():\n",
    "    #SA Table with most expensive cities for two people dishes.\n",
    "    \n",
    "    # Most expensive cities\n",
    "    df_city_by_cost_for_two = ( df.loc[ : , [\"city\", \"dollar_average_cost_for_two\", \"country\"] ].groupby( [\"city\"] ).mean(\"dollar_average_cost_for_two\")\n",
    "                                                                                                         .sort_values(\"dollar_average_cost_for_two\", ascending=False)\n",
    "                                                                                                         .reset_index() )\n",
    "\n",
    "    top_cities_df = df_city_by_cost_for_two.head(5)\n",
    "    \n",
    "    # Add cities' countries\n",
    "    top_cities_df = pd.merge(top_cities_df, df[['city', 'country']], on='city', how='inner').drop_duplicates().reset_index(drop=True)\n",
    "\n",
    "\n",
    "    # Add countries' cost rankings\n",
    "    df_cost_by_country = ( df.loc[ : , [\"country\", \"dollar_average_cost_for_two\"] ].groupby( [\"country\"] ).mean()\n",
    "                                                                                   .sort_values(\"dollar_average_cost_for_two\", ascending=False)\n",
    "                                                                                   .reset_index() )\n",
    "\n",
    "    df_cost_by_country['country_cost_rank'] = df_cost_by_country['dollar_average_cost_for_two'].rank(ascending=False).astype(int)\n",
    "    df_cost_by_country.drop( ['dollar_average_cost_for_two'], axis=1, inplace=True )\n",
    "\n",
    "    cities_cost_rank_df = pd.merge(top_cities_df, df_cost_by_country, on='country', how='inner').drop_duplicates()\n",
    "    \n",
    "    return adjust_df(cities_cost_rank_df)\n",
    "\n",
    "cities_cost_df()"
   ]
  },
  {
   "cell_type": "markdown",
   "id": "0523a5e1-666c-46fc-ba33-0fa14f07d2f7",
   "metadata": {
    "jp-MarkdownHeadingCollapsed": true,
    "tags": []
   },
   "source": [
    "#### 3.5 Cuisine Diversity"
   ]
  },
  {
   "cell_type": "code",
   "execution_count": null,
   "id": "822f46bd-0aba-44ba-8036-b0388e2dc296",
   "metadata": {},
   "outputs": [],
   "source": [
    "def cities_diversity_cuisine_chart():\n",
    "    #SA Table with cities with most variety of cuisines.\n",
    "    cities_cuisines_df = ( df.loc[ : , [\"city\", \"cuisines\"] ].groupby( [\"city\"] ).nunique()\n",
    "                                                             .sort_values(\"cuisines\", ascending=False)\n",
    "                                                             .reset_index() )\n",
    "\n",
    "    cities_cuisines_df['diversity'] = cities_cuisines_df['cuisines'].apply( lambda x: 'low' if x<10 else 'high' )\n",
    "\n",
    "\n",
    "    # Labels and Values for Pie Chart\n",
    "    diversity = [ 'High', 'Low' ]\n",
    "\n",
    "    diversity_counts = []\n",
    "    diversity_counts.append( cities_cuisines_df[ cities_cuisines_df['diversity'] == 'high' ].shape[0] )\n",
    "    diversity_counts.append( cities_cuisines_df[ cities_cuisines_df['diversity'] == 'low' ].shape[0] )\n",
    "\n",
    "    # Pie chart\n",
    "    fig = go.Figure(data=[go.Pie( labels=diversity, \n",
    "                                  values=diversity_counts, \n",
    "                                  marker=dict(colors=['dodgerblue', 'indianred']) )])\n",
    "\n",
    "    fig.update_layout( title_text='Most Cities have high or low diversity of Cuisines?', title_x=0.5 )\n",
    "\n",
    "    return fig\n",
    "    \n",
    "cities_diversity_cuisine_chart()"
   ]
  },
  {
   "cell_type": "markdown",
   "id": "d6a2d56f-c36d-4e28-8895-55308042f4d5",
   "metadata": {
    "jp-MarkdownHeadingCollapsed": true,
    "tags": []
   },
   "source": [
    "#### ~~3.6 Cities with most restaurants that accept reservation.~~"
   ]
  },
  {
   "cell_type": "code",
   "execution_count": null,
   "id": "9c77ac5a-3e26-44b7-8f7f-037a080c122e",
   "metadata": {},
   "outputs": [],
   "source": [
    "#SA Table with cities with most restaurants with reservation option.\n",
    "#PE Select only restaurants with reservation. Group cities by number of reservation using .groupby.nunique(). Sort cities by most to less options with .sort_values.\n",
    "\n",
    "df_reservables = df.loc[ df[\"has_table_booking\"] == 1, :]\n",
    "\n",
    "df_city_by_reservation_option = ( df_reservables.loc[ : , [\"city\", \"restaurant_id\"] ].groupby( [\"city\"] ).nunique()\n",
    "                                                                                     .sort_values(\"restaurant_id\", ascending=False)\n",
    "                                                                                     .reset_index() )\n",
    "\n",
    "df_city_by_reservation_option.columns = [\"city\", \"restaurants_with_reservation_option\"]\n",
    "df_city_by_reservation_option.loc[ 0:4 , : ]"
   ]
  },
  {
   "cell_type": "markdown",
   "id": "742a0812-ffe9-41eb-b877-60e21fa08b1a",
   "metadata": {
    "jp-MarkdownHeadingCollapsed": true,
    "tags": []
   },
   "source": [
    "#### 3.7 Delivery presence"
   ]
  },
  {
   "cell_type": "code",
   "execution_count": null,
   "id": "ab017d6c-adc6-4dad-b771-2361d3a2ed9f",
   "metadata": {},
   "outputs": [],
   "source": [
    "def cities_delicery_chart():\n",
    "    #SA Pie chart delivery presence\n",
    "    cities_delivery_option = ( df.loc[ : , [\"city\", \"is_delivering_now\"] ].groupby( [\"city\"] ).sum().reset_index() )\n",
    "\n",
    "    \n",
    "    # Labels and Values for Pie Chart\n",
    "    cities_deliver_label = [ 'Yes', 'No' ]\n",
    "    cities_deliver_values = [ cities_delivery_option[cities_delivery_option['is_delivering_now'] != 0].shape[0], \n",
    "                              cities_delivery_option[cities_delivery_option['is_delivering_now'] == 0].shape[0] ]\n",
    "\n",
    "    # Pie chart\n",
    "    fig = go.Figure(data=[go.Pie( labels=cities_deliver_label, \n",
    "                                  values=cities_deliver_values, \n",
    "                                  marker=dict(colors=['dodgerblue', 'indianred']) )])\n",
    "\n",
    "    fig.update_layout( title_text='% of cities that have Delivery option', title_x=0.5 )\n",
    "\n",
    "    return fig\n",
    "    \n",
    "cities_delicery_chart()"
   ]
  },
  {
   "cell_type": "markdown",
   "id": "8a3b4e2a-a4b6-4b35-be66-58cfb5dff941",
   "metadata": {
    "jp-MarkdownHeadingCollapsed": true,
    "tags": []
   },
   "source": [
    "#### ~~3.8 Cities with most restaurants with online service.~~"
   ]
  },
  {
   "cell_type": "code",
   "execution_count": null,
   "id": "7b0998be-996a-4368-af31-eb73ab052b4f",
   "metadata": {},
   "outputs": [],
   "source": [
    "#SA Table with cities with most restaurants with online service.\n",
    "#PE Select only restaurants with online service. Group cities by number of restaurants with online service using .groupby.nunique(). Sort cities by most to less options with .sort_values.\n",
    "\n",
    "df_online = df.loc[ df[\"has_online_delivery\"] == 1, :]\n",
    "\n",
    "df_city_by_online_option = ( df_online.loc[ : , [\"city\", \"restaurant_id\"] ].groupby( [\"city\"] ).nunique()\n",
    "                                                                           .sort_values(\"restaurant_id\", ascending=False)\n",
    "                                                                           .reset_index() )\n",
    "\n",
    "df_city_by_online_option.columns = [\"city\", \"restaurants_with_delivery_option\"]\n",
    "df_city_by_online_option.loc[ : , : ].tail()"
   ]
  },
  {
   "cell_type": "markdown",
   "id": "c4c39c9d-cfc6-4123-aa86-e66521ba3228",
   "metadata": {
    "jp-MarkdownHeadingCollapsed": true,
    "tags": []
   },
   "source": [
    "## 4 Restaurants Vision"
   ]
  },
  {
   "cell_type": "markdown",
   "id": "211f438c-ad3c-4d58-9aa0-188ee69c7fc8",
   "metadata": {
    "jp-MarkdownHeadingCollapsed": true,
    "tags": []
   },
   "source": [
    "#### ~~4.1 Restaurants with most amount of ratings.~~"
   ]
  },
  {
   "cell_type": "code",
   "execution_count": null,
   "id": "4e8a62ac-b629-4d8f-9be7-1cb0ab7da82d",
   "metadata": {},
   "outputs": [],
   "source": [
    "#SA Show table of top restaurants with most ratings.\n",
    "#PE Order restaurants by \"votes\" with sort_values() and show only first rows and relevant columns using .loc[].\n",
    "\n",
    "restaurants_with_most_ratings = df.sort_values(\"votes\", ascending=False).reset_index(drop=True)\n",
    "restaurants_with_most_ratings.loc[0:4, [\"restaurant_id\", 'cuisines', \"restaurant_name\", \"country\", \"price_type\", \"aggregate_rating\", \"rating_text\", \"has_online_delivery\", \"votes\"]]"
   ]
  },
  {
   "cell_type": "markdown",
   "id": "969283d2-cb5f-48d3-abd7-30e903959e0f",
   "metadata": {
    "jp-MarkdownHeadingCollapsed": true,
    "tags": []
   },
   "source": [
    "#### ~~4.2 Restaurants with best ratings~~"
   ]
  },
  {
   "cell_type": "code",
   "execution_count": null,
   "id": "21a7b4c8-1942-4bc4-b3c6-9a47fdfccd49",
   "metadata": {},
   "outputs": [],
   "source": [
    "#SA Show table of restaurants with best ratings, in case of draw, rank by most votes.\n",
    "#PE Find best rating of any restaurant. Select only restaurants with the best rating (.loc) and take the ones with most amount of ratings (.sort_values). Show table with valuable information.\n",
    "\n",
    "best_rating = df[\"aggregate_rating\"].max()\n",
    "restaurants_with_best_ratings = df.loc[ df[\"aggregate_rating\"] == best_rating , : ].sort_values(\"votes\", ascending=False).reset_index(drop=True)\n",
    "\n",
    "restaurants_with_best_ratings.loc[0:9, [\"restaurant_id\", \"restaurant_name\", 'cuisines', \"country\", 'city', \"price_type\", \"aggregate_rating\", \"rating_text\", \"has_online_delivery\", \"votes\"]]"
   ]
  },
  {
   "cell_type": "markdown",
   "id": "82c733cc-f8c1-46ba-b1a8-3238860757b6",
   "metadata": {
    "jp-MarkdownHeadingCollapsed": true,
    "tags": []
   },
   "source": [
    "#### ~~4.3 Restaurants with most expensive dishes for two~~"
   ]
  },
  {
   "cell_type": "code",
   "execution_count": null,
   "id": "d7ba8faf-66d4-40e1-bc6c-d85bfd09c92c",
   "metadata": {},
   "outputs": [],
   "source": [
    "#SA Show table of restaurants with most expensive dishes for two people.\n",
    "#PE Order restaurants by \"dollar_average_cost_for_two\" (.sort_values) and show the first lines.\n",
    "\n",
    "restaurants_by_cost_for_two = df.sort_values(\"dollar_average_cost_for_two\", ascending=False).reset_index(drop=True)\n",
    "\n",
    "restaurants_by_cost_for_two.loc[0:4, [\"restaurant_name\", \"dollar_average_cost_for_two\"]]"
   ]
  },
  {
   "cell_type": "markdown",
   "id": "c94b9fb2-2cf7-44ce-826c-bb7b888100ad",
   "metadata": {
    "jp-MarkdownHeadingCollapsed": true,
    "tags": []
   },
   "source": [
    "#### ~~4.4 Worst restaurants with Brazilian cuisine.~~"
   ]
  },
  {
   "cell_type": "code",
   "execution_count": null,
   "id": "caf2519e-d76f-4091-822a-348aed626d0a",
   "metadata": {},
   "outputs": [],
   "source": [
    "#SA Show table of worst restaurants with brazillian cuisine, most votes will be accounted in case of draw.\n",
    "#PE Select only brazillian cuisine restaurants (.loc). Find worst rating and select only those with that rating. Order them by votes (.sort_values). Show first lines.\n",
    "\n",
    "restaurants_with_brazillian_cuisine = df.loc[ df[\"cuisines\"] == \"Brazilian\" , :]\n",
    "worst_rating = restaurants_with_brazillian_cuisine[\"aggregate_rating\"].min()\n",
    "worst_restaurants_with_brazillian_cuisine = restaurants_with_brazillian_cuisine.loc[ restaurants_with_brazillian_cuisine[\"aggregate_rating\"] == worst_rating , :]\n",
    "\n",
    "worst_restaurants_with_brazillian_cuisine = worst_restaurants_with_brazillian_cuisine.sort_values(\"votes\", ascending=False).reset_index(drop=True)\n",
    "\n",
    "worst_restaurants_with_brazillian_cuisine.loc[0:4, [\"restaurant_name\", \"aggregate_rating\", \"votes\"]]"
   ]
  },
  {
   "cell_type": "markdown",
   "id": "1f2ea19b-5ca1-497c-a675-9d9cfe704533",
   "metadata": {
    "jp-MarkdownHeadingCollapsed": true,
    "tags": []
   },
   "source": [
    "#### ~~4.5 Best restaurants with Brazilian cuisine in Brazil.~~"
   ]
  },
  {
   "cell_type": "code",
   "execution_count": null,
   "id": "eef18ab9-7b67-4d83-95ef-fa75baa7f4c6",
   "metadata": {},
   "outputs": [],
   "source": [
    "#SA Show table of best restaurants with brazillian cuisine, most votes will be accounted in case of draw.\n",
    "#PE Select only brazillian cuisine and only Brazil restaurants (.loc). Find worst rating and select only those with that rating. Order them by votes (.sort_values). Show first lines.\n",
    "\n",
    "restaurants_with_brazillian_cuisine_in_brazil = df.loc[ df[\"cuisines\"] == \"Brazilian\" , :]\n",
    "restaurants_with_brazillian_cuisine_in_brazil = restaurants_with_brazillian_cuisine_in_brazil.loc[ df[\"country\"] == \"Brazil\" , :]\n",
    "best_rating = restaurants_with_brazillian_cuisine_in_brazil[\"aggregate_rating\"].max()\n",
    "best_restaurants_with_brazillian_cuisine_in_brazil = restaurants_with_brazillian_cuisine_in_brazil.loc[ restaurants_with_brazillian_cuisine[\"aggregate_rating\"] == best_rating , :]\n",
    "\n",
    "best_restaurants_with_brazillian_cuisine_in_brazil = best_restaurants_with_brazillian_cuisine_in_brazil.sort_values(\"votes\", ascending=False).reset_index(drop=True)\n",
    "\n",
    "best_restaurants_with_brazillian_cuisine_in_brazil.loc[0:4, [\"restaurant_name\", \"aggregate_rating\", \"votes\"]]"
   ]
  },
  {
   "cell_type": "markdown",
   "id": "b89f8ae5-2cfd-48b2-a95c-f08b75d73ffa",
   "metadata": {
    "jp-MarkdownHeadingCollapsed": true,
    "tags": []
   },
   "source": [
    "#### 4.6 Do restaurants available online receive a bigger amount of ratings than those without this feature?"
   ]
  },
  {
   "cell_type": "code",
   "execution_count": null,
   "id": "8b124435-c182-42d2-91f7-99e2da5dc09e",
   "metadata": {},
   "outputs": [],
   "source": [
    "def votes_restaurants_voting_chart():\n",
    "    # Pie chart votes for online and offline restaurants\n",
    "    votes_count_online_or_not = df.loc[:, [\"has_online_delivery\", \"votes\"]].groupby([\"has_online_delivery\"]).mean().reset_index()\n",
    "\n",
    "\n",
    "    # Pie chart\n",
    "    fig = go.Figure(data=[go.Pie( labels=[ 'Restaurants Offline', 'Restaurants Online' ], \n",
    "                                  values=votes_count_online_or_not['votes'], \n",
    "                                  marker=dict(colors=['dodgerblue', 'indianred']) )])\n",
    "\n",
    "    fig.update_layout( title_text='Votes amount', title_x=0.5 )\n",
    "    \n",
    "    return fig\n",
    "\n",
    "votes_restaurants_voting_chart()"
   ]
  },
  {
   "cell_type": "markdown",
   "id": "6cbddbcc-1450-4e40-b3d0-167637df2096",
   "metadata": {
    "jp-MarkdownHeadingCollapsed": true,
    "tags": []
   },
   "source": [
    "#### 4.7 Do restaurants with reservation receive better rating than those without it?"
   ]
  },
  {
   "cell_type": "code",
   "execution_count": null,
   "id": "f795c4b6-f1c0-4cac-b8a9-af2beee5b7ad",
   "metadata": {},
   "outputs": [],
   "source": [
    "def restaurants_booking_ratings_df():\n",
    "    # Ratings with and without reservation.\n",
    "    ratings_table_booking_df = df.loc[:, [\"has_table_booking\", \"aggregate_rating\"]].groupby([\"has_table_booking\"]).mean().reset_index().round(2)\n",
    "    ratings_table_booking_df['aggregate_rating'] = ratings_table_booking_df['aggregate_rating'].astype(str)\n",
    "    return adjust_df(ratings_table_booking_df)\n",
    "\n",
    "restaurants_booking_ratings_df()"
   ]
  },
  {
   "cell_type": "markdown",
   "id": "846330a7-930b-4abf-9032-80fab9e721f8",
   "metadata": {
    "jp-MarkdownHeadingCollapsed": true,
    "tags": []
   },
   "source": [
    "#### ~~4.8 In the USA, what type of restaurant is more expensive on average: Japanese or BBQ?~~"
   ]
  },
  {
   "cell_type": "code",
   "execution_count": null,
   "id": "91fb7e16-078f-457a-9e2d-b4407e422369",
   "metadata": {},
   "outputs": [],
   "source": [
    "#SA Table with average price for Japanese and BBQ cuisines.\n",
    "#PE Select only USA restaurants (.loc). Make table with Japanese cuisine and another with BBQ, concatenate them. Group them by cuisine and take average rating. Show result.\n",
    "\n",
    "restaurants_in_US = df.loc[ df[\"country\"] == \"United States of America\" , :]\n",
    "\n",
    "restaurants_in_US_japanese = restaurants_in_US.loc[ df[\"cuisines\"] == \"Japanese\" , :]\n",
    "restaurants_in_US_bbq = restaurants_in_US.loc[ df[\"cuisines\"] == \"BBQ\" , :]\n",
    "\n",
    "restaurants_in_US_japanese_bbq = pd.concat([restaurants_in_US_japanese, restaurants_in_US_bbq])\n",
    "\n",
    "restaurants_in_US_japanese_bbq.loc[:, [\"cuisines\", \"dollar_average_cost_for_two\"]].groupby([\"cuisines\"]).mean()"
   ]
  },
  {
   "cell_type": "markdown",
   "id": "1570bc91-ba88-4eab-84bc-2246967e819a",
   "metadata": {
    "tags": []
   },
   "source": [
    "## 5 Cuisines Vision"
   ]
  },
  {
   "cell_type": "markdown",
   "id": "2df23e97-b0a7-47e4-b329-016a80306515",
   "metadata": {
    "jp-MarkdownHeadingCollapsed": true,
    "tags": []
   },
   "source": [
    "#### ~~5.1 Best restaurants with the following cuisines: Italian, American, Arabian, Japanese, Home-made.~~"
   ]
  },
  {
   "cell_type": "code",
   "execution_count": null,
   "id": "cbb36271-d448-488e-aacb-84b6f7e422c1",
   "metadata": {},
   "outputs": [],
   "source": [
    "#SA Table with best rated restaurants for Italian, American, Arabian, Japanese and Home-made cuisines.\n",
    "#PE Group by cuisines, take max value. Select only the cuisines asked and show table.\n",
    "\n",
    "best_restaurants_by_cuisines = ( df.loc[ : , [\"cuisines\", \"aggregate_rating\", \"restaurant_name\"] ].groupby( [\"cuisines\"] ).max()\n",
    "                                                                                                  .reset_index() )\n",
    "\n",
    "best_restaurants_by_given_cuisines = ( best_restaurants_by_cuisines.loc[ (best_restaurants_by_cuisines[\"cuisines\"] == \"Italian\") | \n",
    "                                                                         (best_restaurants_by_cuisines[\"cuisines\"] == \"American\") |\n",
    "                                                                         (best_restaurants_by_cuisines[\"cuisines\"] == \"Arabian\") |\n",
    "                                                                         (best_restaurants_by_cuisines[\"cuisines\"] == \"Japanese\") |\n",
    "                                                                         (best_restaurants_by_cuisines[\"cuisines\"] == \"Home-made\") , : ] .reset_index(drop=True) )\n",
    "\n",
    "best_restaurants_by_given_cuisines"
   ]
  },
  {
   "cell_type": "markdown",
   "id": "4cc5d591-0e33-4a58-a025-d1922f9a4f36",
   "metadata": {
    "jp-MarkdownHeadingCollapsed": true,
    "tags": []
   },
   "source": [
    "#### ~~5.2 Worst restaurants with the following cuisines: Italian, American, Arabian, Japanese, Home-made.~~"
   ]
  },
  {
   "cell_type": "code",
   "execution_count": null,
   "id": "b5a77545-a498-4aea-8db6-b224cd5d217e",
   "metadata": {},
   "outputs": [],
   "source": [
    "#SA Table with worst rated restaurants for Italian, American, Arabian, Japanese and Home-made cuisines.\n",
    "#PE Group by cuisines, take min value. Select only the cuisines asked and show table.\n",
    "\n",
    "best_restaurants_by_cuisines = ( df.loc[ : , [\"cuisines\", \"aggregate_rating\", \"restaurant_name\"] ].groupby( [\"cuisines\"] ).min()\n",
    "                                                                                                  .reset_index() )\n",
    "\n",
    "best_restaurants_by_given_cuisines = ( best_restaurants_by_cuisines.loc[ (best_restaurants_by_cuisines[\"cuisines\"] == \"Italian\") | \n",
    "                                                                         (best_restaurants_by_cuisines[\"cuisines\"] == \"American\") |\n",
    "                                                                         (best_restaurants_by_cuisines[\"cuisines\"] == \"Arabian\") |\n",
    "                                                                         (best_restaurants_by_cuisines[\"cuisines\"] == \"Japanese\") |\n",
    "                                                                         (best_restaurants_by_cuisines[\"cuisines\"] == \"Home-made\") , : ] .reset_index(drop=True) )\n",
    "\n",
    "best_restaurants_by_given_cuisines"
   ]
  },
  {
   "cell_type": "markdown",
   "id": "cb102d44-0961-4d47-835a-472cc17626f4",
   "metadata": {
    "jp-MarkdownHeadingCollapsed": true,
    "tags": []
   },
   "source": [
    "#### 5.3 Most expensive cuisines"
   ]
  },
  {
   "cell_type": "code",
   "execution_count": null,
   "id": "6f0b5721-9c80-4b52-87ff-672bc42556ba",
   "metadata": {},
   "outputs": [],
   "source": [
    "def cuisines_cost_chart():\n",
    "    #SA Barplot Cuisines cost.\n",
    "    cuisines_cost = ( df.loc[ : , [\"cuisines\", \"dollar_average_cost_for_two\"] ].groupby( [\"cuisines\"] ).mean()\n",
    "                                                                               .sort_values(\"dollar_average_cost_for_two\", ascending=False)\n",
    "                                                                               .reset_index() )\n",
    "\n",
    "    cuisines_cost['dollar_average_cost_for_two'] = cuisines_cost['dollar_average_cost_for_two'].astype(int)\n",
    "    cuisines_cost = cuisines_cost.loc[ 0:4 , : ]\n",
    "\n",
    "\n",
    "    fig = go.Figure(data=[go.Bar( x=cuisines_cost['cuisines'],\n",
    "                                  y=cuisines_cost['dollar_average_cost_for_two'],\n",
    "                                  marker_color='indianred' )])\n",
    "\n",
    "    fig.update_layout(title_text='Most expensive Cuisines for two people (dollars)', title_x=0.5,\n",
    "                      xaxis_title='Cuisine', yaxis_title='Cost for two')\n",
    "\n",
    "\n",
    "    return fig\n",
    "\n",
    "cuisines_cost_chart()"
   ]
  },
  {
   "cell_type": "markdown",
   "id": "e4025262-3d48-4d47-9b81-655951e847ec",
   "metadata": {
    "jp-MarkdownHeadingCollapsed": true,
    "tags": []
   },
   "source": [
    "#### ~~5.4 Best cuisines.~~"
   ]
  },
  {
   "cell_type": "code",
   "execution_count": null,
   "id": "11753551-98e6-401f-91cb-4f1335c8e943",
   "metadata": {},
   "outputs": [],
   "source": [
    "#SA Table with best rated cuisines.\n",
    "#PE Group cuisines by average rating using .groupby.mean(). Sort cuisines by best to worst ratings with .sort_values.\n",
    "\n",
    "df_cuisine_by_cost_for_two = ( df.loc[ : , [\"cuisines\", \"aggregate_rating\"] ].groupby( [\"cuisines\"] ).mean()\n",
    "                                                                             .sort_values(\"aggregate_rating\", ascending=False)\n",
    "                                                                             .reset_index() )\n",
    "\n",
    "df_cuisine_by_cost_for_two.loc[ 1:10 , : ]"
   ]
  },
  {
   "cell_type": "markdown",
   "id": "35d5b5f5-5073-49b1-a0ef-e14b94dcf1b1",
   "metadata": {
    "tags": []
   },
   "source": [
    "#### 5.5 Best cuisines by country."
   ]
  },
  {
   "cell_type": "code",
   "execution_count": null,
   "id": "6b0d0a32-cef8-4fb9-9648-57df02b38d85",
   "metadata": {},
   "outputs": [],
   "source": [
    "def cuisines_favorites_chart():\n",
    "    # Sunburst of countries' favorite dishes\n",
    "    df_cuisines_by_country = ( df.loc[ : , ['cuisines', 'aggregate_rating', 'country'] ].groupby( [\"country\", \"cuisines\"] ).mean()\n",
    "                                                                                        .reset_index() ).round(2) \n",
    "\n",
    "    cuisines_countries_favorites_df = ( df_cuisines_by_country.loc[ : , [\"cuisines\", \"aggregate_rating\", \"country\"] ].groupby( [\"country\"] ).max()\n",
    "                                                                                                                  .reset_index() )\n",
    "\n",
    "    cuisines_countries_favorites_df.sort_values('cuisines')\n",
    "\n",
    "\n",
    "    # Sunburst chart\n",
    "    fig = px.sunburst(cuisines_countries_favorites_df, path=['cuisines', 'country'], color='country', color_discrete_sequence=px.colors.qualitative.Set3)\n",
    "\n",
    "    fig.update_layout(title_text=\"Countries' favorite Cuisines\")\n",
    "\n",
    "    return fig\n",
    "\n",
    "cuisines_favorites_chart()"
   ]
  },
  {
   "cell_type": "markdown",
   "id": "b5912015-35c7-4423-9fe9-2f149fbe2bbf",
   "metadata": {
    "jp-MarkdownHeadingCollapsed": true,
    "tags": []
   },
   "source": [
    "#### 5.5 Cuisines with most restaurants with online delivery service."
   ]
  },
  {
   "cell_type": "code",
   "execution_count": null,
   "id": "5fdc21c2-a02e-475c-a549-2e29e0039cbe",
   "metadata": {},
   "outputs": [],
   "source": [
    "def cuisines_deliver_chart():\n",
    "    #SA Barplot of cuisines delivering online\n",
    "    df_online_cuisine = df.loc[ df[\"has_online_delivery\"] == 1, :]\n",
    "\n",
    "    cuisines_restaurants_online = ( df_online_cuisine.loc[ : , [\"cuisines\", \"restaurant_id\"] ].groupby( [\"cuisines\"] ).nunique()\n",
    "                                                                                                 .sort_values(\"restaurant_id\", ascending=False)\n",
    "                                                                                                 .reset_index() )\n",
    "\n",
    "    cuisines_restaurants_online.columns = [\"cuisines\", \"restaurants_with_delivery_option\"]\n",
    "    cuisines_restaurants_online = cuisines_restaurants_online.loc[ 0:4 , : ]\n",
    "\n",
    "    cuisines_restaurants_online\n",
    "\n",
    "\n",
    "    # Bar chart\n",
    "    fig = go.Figure(data=[go.Bar( x=cuisines_restaurants_online['cuisines'],\n",
    "                                  y=cuisines_restaurants_online['restaurants_with_delivery_option'],\n",
    "                                  marker_color='skyblue' )])\n",
    "\n",
    "    fig.update_layout(title_text='Cuisines x Amount of Restaurants delivering online', title_x=0.5,\n",
    "                      xaxis_title='Cuisine', yaxis_title='Restaurants')\n",
    "\n",
    "\n",
    "    return fig\n",
    "\n",
    "cuisines_deliver_chart()"
   ]
  },
  {
   "cell_type": "markdown",
   "id": "5c770682-3b0d-453b-921f-cac1038d1901",
   "metadata": {
    "tags": []
   },
   "source": [
    "#### ~~5.7 Cuisines that take most reservations.~~"
   ]
  },
  {
   "cell_type": "code",
   "execution_count": null,
   "id": "21bd1048-da7a-4c11-ac00-74364ed25713",
   "metadata": {},
   "outputs": [],
   "source": [
    "#SA Table with cuisines with most restaurants with reservation option.\n",
    "#PE Select only restaurants with reservation option. Group cuisines by number of restaurants with reservation option using .groupby.nunique(). Sort cuisines by most to less options with .sort_values.\n",
    "\n",
    "df_reservation_cuisines = df.loc[ df[\"has_table_booking\"] == 1, :]\n",
    "\n",
    "df_cuisines_with_reservation_option = ( df_reservation_cuisines.loc[ : , [\"cuisines\", \"restaurant_id\"] ].groupby( [\"cuisines\"] ).nunique()\n",
    "                                                                                                   .sort_values(\"restaurant_id\", ascending=False)\n",
    "                                                                                                   .reset_index() )\n",
    "\n",
    "df_cuisines_with_reservation_option.columns = [\"cuisines\", \"restaurants_with_reservation_option\"]\n",
    "df_cuisines_with_reservation_option.loc[ 0:4 , : ]"
   ]
  }
 ],
 "metadata": {
  "kernelspec": {
   "display_name": "Python 3 (ipykernel)",
   "language": "python",
   "name": "python3"
  },
  "language_info": {
   "codemirror_mode": {
    "name": "ipython",
    "version": 3
   },
   "file_extension": ".py",
   "mimetype": "text/x-python",
   "name": "python",
   "nbconvert_exporter": "python",
   "pygments_lexer": "ipython3",
   "version": "3.10.13"
  }
 },
 "nbformat": 4,
 "nbformat_minor": 5
}
